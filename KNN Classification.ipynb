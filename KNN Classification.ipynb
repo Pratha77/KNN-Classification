{
 "cells": [
  {
   "cell_type": "code",
   "execution_count": 1,
   "metadata": {},
   "outputs": [],
   "source": [
    "#We are predicting passanger is going to survived or not(Binary Classification)"
   ]
  },
  {
   "cell_type": "markdown",
   "metadata": {},
   "source": [
    "# Step 1: Import Dependencies"
   ]
  },
  {
   "cell_type": "code",
   "execution_count": 2,
   "metadata": {},
   "outputs": [],
   "source": [
    "import pandas as pd\n",
    "import matplotlib.pyplot as plt\n",
    "import numpy as np\n",
    "import seaborn as sns\n",
    "from sklearn.preprocessing import StandardScaler\n",
    "from scipy.stats import skew\n",
    "\n",
    "import warnings\n",
    "warnings.filterwarnings(\"ignore\")\n",
    "\n",
    "%matplotlib inline\n",
    "pd.set_option(\"display.max_columns\",None) # It will display all columns in dataframe"
   ]
  },
  {
   "cell_type": "code",
   "execution_count": 3,
   "metadata": {},
   "outputs": [
    {
     "name": "stdout",
     "output_type": "stream",
     "text": [
      "(891, 11)\n",
      "(21, 11)\n"
     ]
    }
   ],
   "source": [
    "train_df = pd.read_excel('DATA/Titanic_Survival_Train.xls',\n",
    "                         index_col=0, header=0)\n",
    "                      \n",
    "\n",
    "test_df = pd.read_excel('DATA/Titanic_Survival_Test.xls',\n",
    "                         index_col=0, header=0)\n",
    "                      \n",
    "\n",
    "print(train_df.shape)\n",
    "print(test_df.shape)"
   ]
  },
  {
   "cell_type": "code",
   "execution_count": 4,
   "metadata": {},
   "outputs": [
    {
     "data": {
      "text/html": [
       "<div>\n",
       "<style scoped>\n",
       "    .dataframe tbody tr th:only-of-type {\n",
       "        vertical-align: middle;\n",
       "    }\n",
       "\n",
       "    .dataframe tbody tr th {\n",
       "        vertical-align: top;\n",
       "    }\n",
       "\n",
       "    .dataframe thead th {\n",
       "        text-align: right;\n",
       "    }\n",
       "</style>\n",
       "<table border=\"1\" class=\"dataframe\">\n",
       "  <thead>\n",
       "    <tr style=\"text-align: right;\">\n",
       "      <th></th>\n",
       "      <th>Survived</th>\n",
       "      <th>Pclass</th>\n",
       "      <th>Name</th>\n",
       "      <th>Sex</th>\n",
       "      <th>Age</th>\n",
       "      <th>SibSp</th>\n",
       "      <th>Parch</th>\n",
       "      <th>Ticket</th>\n",
       "      <th>Fare</th>\n",
       "      <th>Cabin</th>\n",
       "      <th>Embarked</th>\n",
       "    </tr>\n",
       "    <tr>\n",
       "      <th>PassengerId</th>\n",
       "      <th></th>\n",
       "      <th></th>\n",
       "      <th></th>\n",
       "      <th></th>\n",
       "      <th></th>\n",
       "      <th></th>\n",
       "      <th></th>\n",
       "      <th></th>\n",
       "      <th></th>\n",
       "      <th></th>\n",
       "      <th></th>\n",
       "    </tr>\n",
       "  </thead>\n",
       "  <tbody>\n",
       "    <tr>\n",
       "      <th>1</th>\n",
       "      <td>0</td>\n",
       "      <td>3</td>\n",
       "      <td>Braund, Mr. Owen Harris</td>\n",
       "      <td>male</td>\n",
       "      <td>22.0</td>\n",
       "      <td>1</td>\n",
       "      <td>0</td>\n",
       "      <td>A/5 21171</td>\n",
       "      <td>7.2500</td>\n",
       "      <td>NaN</td>\n",
       "      <td>S</td>\n",
       "    </tr>\n",
       "    <tr>\n",
       "      <th>2</th>\n",
       "      <td>1</td>\n",
       "      <td>1</td>\n",
       "      <td>Cumings, Mrs. John Bradley (Florence Briggs Th...</td>\n",
       "      <td>female</td>\n",
       "      <td>38.0</td>\n",
       "      <td>1</td>\n",
       "      <td>0</td>\n",
       "      <td>PC 17599</td>\n",
       "      <td>71.2833</td>\n",
       "      <td>C85</td>\n",
       "      <td>C</td>\n",
       "    </tr>\n",
       "    <tr>\n",
       "      <th>3</th>\n",
       "      <td>1</td>\n",
       "      <td>3</td>\n",
       "      <td>Heikkinen, Miss. Laina</td>\n",
       "      <td>female</td>\n",
       "      <td>26.0</td>\n",
       "      <td>0</td>\n",
       "      <td>0</td>\n",
       "      <td>STON/O2. 3101282</td>\n",
       "      <td>7.9250</td>\n",
       "      <td>NaN</td>\n",
       "      <td>S</td>\n",
       "    </tr>\n",
       "    <tr>\n",
       "      <th>4</th>\n",
       "      <td>1</td>\n",
       "      <td>1</td>\n",
       "      <td>Futrelle, Mrs. Jacques Heath (Lily May Peel)</td>\n",
       "      <td>female</td>\n",
       "      <td>35.0</td>\n",
       "      <td>1</td>\n",
       "      <td>0</td>\n",
       "      <td>113803</td>\n",
       "      <td>53.1000</td>\n",
       "      <td>C123</td>\n",
       "      <td>S</td>\n",
       "    </tr>\n",
       "    <tr>\n",
       "      <th>5</th>\n",
       "      <td>0</td>\n",
       "      <td>3</td>\n",
       "      <td>Allen, Mr. William Henry</td>\n",
       "      <td>male</td>\n",
       "      <td>35.0</td>\n",
       "      <td>0</td>\n",
       "      <td>0</td>\n",
       "      <td>373450</td>\n",
       "      <td>8.0500</td>\n",
       "      <td>NaN</td>\n",
       "      <td>S</td>\n",
       "    </tr>\n",
       "  </tbody>\n",
       "</table>\n",
       "</div>"
      ],
      "text/plain": [
       "             Survived  Pclass  \\\n",
       "PassengerId                     \n",
       "1                   0       3   \n",
       "2                   1       1   \n",
       "3                   1       3   \n",
       "4                   1       1   \n",
       "5                   0       3   \n",
       "\n",
       "                                                          Name     Sex   Age  \\\n",
       "PassengerId                                                                    \n",
       "1                                      Braund, Mr. Owen Harris    male  22.0   \n",
       "2            Cumings, Mrs. John Bradley (Florence Briggs Th...  female  38.0   \n",
       "3                                       Heikkinen, Miss. Laina  female  26.0   \n",
       "4                 Futrelle, Mrs. Jacques Heath (Lily May Peel)  female  35.0   \n",
       "5                                     Allen, Mr. William Henry    male  35.0   \n",
       "\n",
       "             SibSp  Parch            Ticket     Fare Cabin Embarked  \n",
       "PassengerId                                                          \n",
       "1                1      0         A/5 21171   7.2500   NaN        S  \n",
       "2                1      0          PC 17599  71.2833   C85        C  \n",
       "3                0      0  STON/O2. 3101282   7.9250   NaN        S  \n",
       "4                1      0            113803  53.1000  C123        S  \n",
       "5                0      0            373450   8.0500   NaN        S  "
      ]
     },
     "execution_count": 4,
     "metadata": {},
     "output_type": "execute_result"
    }
   ],
   "source": [
    "train_df.head()"
   ]
  },
  {
   "cell_type": "code",
   "execution_count": 5,
   "metadata": {},
   "outputs": [
    {
     "data": {
      "text/plain": [
       "Survived      int64\n",
       "Pclass        int64\n",
       "Name         object\n",
       "Sex          object\n",
       "Age         float64\n",
       "SibSp         int64\n",
       "Parch         int64\n",
       "Ticket       object\n",
       "Fare        float64\n",
       "Cabin        object\n",
       "Embarked     object\n",
       "dtype: object"
      ]
     },
     "execution_count": 5,
     "metadata": {},
     "output_type": "execute_result"
    }
   ],
   "source": [
    "train_df.dtypes"
   ]
  },
  {
   "cell_type": "markdown",
   "metadata": {},
   "source": [
    "# Step 2:EDA"
   ]
  },
  {
   "cell_type": "code",
   "execution_count": 6,
   "metadata": {},
   "outputs": [
    {
     "data": {
      "image/png": "[encoded data removed]",
      "text/plain": [
       "<Figure size 432x288 with 1 Axes>"
      ]
     },
     "metadata": {
      "needs_background": "light"
     },
     "output_type": "display_data"
    }
   ],
   "source": [
    "sns.histplot(data = train_df, x=\"Age\", kde=True)\n",
    "plt.show()"
   ]
  },
  {
   "cell_type": "markdown",
   "metadata": {},
   "source": [
    "- Majority passanger belong to age group of 20 to 40\n",
    "- Childern from 1 to 5 age is 40\n",
    "- Less senior citizen"
   ]
  },
  {
   "cell_type": "code",
   "execution_count": 7,
   "metadata": {},
   "outputs": [
    {
     "data": {
      "image/png": "[encoded data removed]",
      "text/plain": [
       "<Figure size 432x288 with 1 Axes>"
      ]
     },
     "metadata": {
      "needs_background": "light"
     },
     "output_type": "display_data"
    }
   ],
   "source": [
    "sns.histplot(data = train_df,\n",
    "            x=\"Age\",\n",
    "            kde = False,\n",
    "            hue=\"Survived\",\n",
    "            element=\"poly\")\n",
    "\n",
    "plt.show()"
   ]
  },
  {
   "cell_type": "markdown",
   "metadata": {},
   "source": [
    "- Majority number of passanger who died  belong to age 15 to 40\n",
    "- childerns from age 2 to 10 survived most"
   ]
  },
  {
   "cell_type": "code",
   "execution_count": 8,
   "metadata": {},
   "outputs": [],
   "source": [
    "def create_piechart(data, column):\n",
    "    \"\"\"\n",
    "    \n",
    "    objective: Create Piechart for Categorical variables present in Pandas Dataframe\n",
    "    \n",
    "    Parameters:\n",
    "            data: This is pandas dataframe\n",
    "            Column: This is column name which is used to create plot\n",
    "            \n",
    "    Return:\n",
    "        This will show piechart\n",
    "    \"\"\"\n",
    "    \n",
    "    labels = list(data[column].value_counts().to_dict().keys())\n",
    "    sizes = list(data[column].value_counts().to_dict().values())\n",
    "    \n",
    "    plt.pie(sizes,\n",
    "           labels = labels,\n",
    "           autopct = '%1.2f%%',\n",
    "           shadow = False,\n",
    "           startangle = 45)\n",
    "    \n",
    "    plt.axis('equal')\n",
    "    plt.title(\"Piechart - {}\".format(column))\n",
    "    plt.show()\n",
    "    "
   ]
  },
  {
   "cell_type": "code",
   "execution_count": 9,
   "metadata": {},
   "outputs": [
    {
     "data": {
      "image/png": "[encoded data removed]",
      "text/plain": [
       "<Figure size 432x288 with 1 Axes>"
      ]
     },
     "metadata": {},
     "output_type": "display_data"
    }
   ],
   "source": [
    "create_piechart(train_df, \"Survived\")"
   ]
  },
  {
   "cell_type": "code",
   "execution_count": 10,
   "metadata": {},
   "outputs": [
    {
     "data": {
      "image/png": "[encoded data removed]",
      "text/plain": [
       "<Figure size 432x288 with 1 Axes>"
      ]
     },
     "metadata": {},
     "output_type": "display_data"
    }
   ],
   "source": [
    "create_piechart(train_df, \"Sex\")"
   ]
  },
  {
   "cell_type": "code",
   "execution_count": 11,
   "metadata": {},
   "outputs": [
    {
     "data": {
      "image/png": "[encoded data removed]",
      "text/plain": [
       "<Figure size 402.375x360 with 1 Axes>"
      ]
     },
     "metadata": {
      "needs_background": "light"
     },
     "output_type": "display_data"
    }
   ],
   "source": [
    "sns.catplot(data=train_df,\n",
    "           x=\"Sex\",\n",
    "           y=\"Survived\",\n",
    "           hue=\"Pclass\",\n",
    "           kind=\"bar\")\n",
    "plt.show()"
   ]
  },
  {
   "cell_type": "markdown",
   "metadata": {},
   "source": [
    "- here black line indicate Confidence interval\n",
    "- Female 1st class passanger have low Confidence interval ,it means they have high chance of servied.\n",
    "- Male 1st class passanger have high Confidence interval ,it means they have low chance to servied.\n",
    "- Female 3rd class passanger have more chance then male 1st class passanger."
   ]
  },
  {
   "cell_type": "markdown",
   "metadata": {},
   "source": [
    "When this time of incedent occurs 1st priority is given to female and childrens"
   ]
  },
  {
   "cell_type": "code",
   "execution_count": 12,
   "metadata": {},
   "outputs": [
    {
     "data": {
      "image/png": "[encoded data removed]",
      "text/plain": [
       "<Figure size 402.375x360 with 1 Axes>"
      ]
     },
     "metadata": {
      "needs_background": "light"
     },
     "output_type": "display_data"
    }
   ],
   "source": [
    "sns.catplot(data=train_df,\n",
    "           x=\"Sex\",\n",
    "           y=\"Age\",\n",
    "           hue=\"Pclass\",\n",
    "           kind=\"box\")\n",
    "plt.show()"
   ]
  },
  {
   "cell_type": "markdown",
   "metadata": {},
   "source": [
    "- Age group of 4 to 51 male most of the passanger travelling from class 3.\n",
    "- Age group of 5 to 57 male most of the passanger travelling from class 2.\n",
    "- Age group of 1 to 80 male most of the passanger travelling from class 1.\n",
    "- means most of the younger passanger are travelling from class 3.\n",
    "- same logic for female passanger.\n",
    "- we are getting outliers in class 2 having age from 59 to 71."
   ]
  },
  {
   "cell_type": "code",
   "execution_count": 13,
   "metadata": {},
   "outputs": [
    {
     "data": {
      "image/png": "[encoded data removed]",
      "text/plain": [
       "<Figure size 402.375x360 with 1 Axes>"
      ]
     },
     "metadata": {
      "needs_background": "light"
     },
     "output_type": "display_data"
    }
   ],
   "source": [
    "sns.catplot(data=train_df,\n",
    "           x=\"Sex\",\n",
    "           y=\"Age\",\n",
    "           hue=\"Pclass\",\n",
    "           kind=\"violin\")\n",
    "plt.show()"
   ]
  },
  {
   "cell_type": "code",
   "execution_count": 14,
   "metadata": {},
   "outputs": [
    {
     "data": {
      "image/png": "[encoded data removed]",
      "text/plain": [
       "<Figure size 432x288 with 1 Axes>"
      ]
     },
     "metadata": {
      "needs_background": "light"
     },
     "output_type": "display_data"
    }
   ],
   "source": [
    "sns.countplot(x=\"Survived\", hue=\"Embarked\", data=train_df)\n",
    "plt.show()"
   ]
  },
  {
   "cell_type": "markdown",
   "metadata": {},
   "source": [
    "- 0 means not survived 1 means survived\n",
    "- Most of the passanger died who board from location S.( because Most of passanger board from locations)"
   ]
  },
  {
   "cell_type": "code",
   "execution_count": 15,
   "metadata": {},
   "outputs": [
    {
     "data": {
      "image/png": "[encoded data removed]",
      "text/plain": [
       "<Figure size 432x288 with 1 Axes>"
      ]
     },
     "metadata": {
      "needs_background": "light"
     },
     "output_type": "display_data"
    }
   ],
   "source": [
    "sns.scatterplot(data= train_df, x=\"Fare\", y=\"Age\", hue=\"Pclass\", palette=\"gist_rainbow_r\")\n",
    "plt.show()"
   ]
  },
  {
   "cell_type": "code",
   "execution_count": 16,
   "metadata": {},
   "outputs": [
    {
     "data": {
      "image/png": "[encoded data removed]",
      "text/plain": [
       "<Figure size 432x288 with 1 Axes>"
      ]
     },
     "metadata": {
      "needs_background": "light"
     },
     "output_type": "display_data"
    }
   ],
   "source": [
    "sns.scatterplot(data= train_df, x=\"Fare\", y=\"Age\", hue=\"Survived\", palette=\"gist_rainbow_r\")\n",
    "plt.show()"
   ]
  },
  {
   "cell_type": "markdown",
   "metadata": {},
   "source": [
    "# Step 3: Data Preprocessing"
   ]
  },
  {
   "cell_type": "code",
   "execution_count": 17,
   "metadata": {},
   "outputs": [
    {
     "data": {
      "text/plain": [
       "Index(['Survived', 'Pclass', 'Name', 'Sex', 'Age', 'SibSp', 'Parch', 'Ticket',\n",
       "       'Fare', 'Cabin', 'Embarked'],\n",
       "      dtype='object')"
      ]
     },
     "execution_count": 17,
     "metadata": {},
     "output_type": "execute_result"
    }
   ],
   "source": [
    "train_df.columns"
   ]
  },
  {
   "cell_type": "code",
   "execution_count": 18,
   "metadata": {},
   "outputs": [],
   "source": [
    "#Feature selection\n",
    "train_df = train_df[['Name', 'Pclass', 'Sex', 'Age', 'Survived']]\n",
    "test_df = test_df[['Name', 'Pclass', 'Sex', 'Age', 'Survived']]"
   ]
  },
  {
   "cell_type": "code",
   "execution_count": 19,
   "metadata": {},
   "outputs": [
    {
     "name": "stdout",
     "output_type": "stream",
     "text": [
      "Name          0\n",
      "Pclass        0\n",
      "Sex           0\n",
      "Age         177\n",
      "Survived      0\n",
      "dtype: int64\n",
      "Name        0\n",
      "Pclass      0\n",
      "Sex         0\n",
      "Age         2\n",
      "Survived    0\n",
      "dtype: int64\n"
     ]
    }
   ],
   "source": [
    "#Finding Missing Values\n",
    "print(train_df.isnull().sum())\n",
    "print(test_df.isnull().sum())"
   ]
  },
  {
   "cell_type": "code",
   "execution_count": 20,
   "metadata": {},
   "outputs": [],
   "source": [
    "#Imputing numerical missing data with mean value(We are using mean because Age data is normalize)\n",
    "train_df['Age'].fillna(train_df[\"Age\"].mean(), inplace=True)\n",
    "\n",
    "test_df['Age'].fillna(test_df[\"Age\"].mean(), inplace=True)"
   ]
  },
  {
   "cell_type": "code",
   "execution_count": 21,
   "metadata": {},
   "outputs": [
    {
     "name": "stdout",
     "output_type": "stream",
     "text": [
      "Name        0\n",
      "Pclass      0\n",
      "Sex         0\n",
      "Age         0\n",
      "Survived    0\n",
      "dtype: int64\n",
      "Name        0\n",
      "Pclass      0\n",
      "Sex         0\n",
      "Age         0\n",
      "Survived    0\n",
      "dtype: int64\n"
     ]
    }
   ],
   "source": [
    "#Finding the missing value\n",
    "print(train_df.isnull().sum())\n",
    "print(test_df.isnull().sum())"
   ]
  },
  {
   "cell_type": "code",
   "execution_count": 22,
   "metadata": {},
   "outputs": [],
   "source": [
    "#Manual Encoding\n",
    "train_df[\"Sex\"] = train_df[\"Sex\"].map({\"male\":0,\"female\":1})\n",
    "test_df[\"Sex\"] = test_df[\"Sex\"].map({\"male\":0,\"female\":1})"
   ]
  },
  {
   "cell_type": "code",
   "execution_count": 23,
   "metadata": {},
   "outputs": [
    {
     "data": {
      "text/html": [
       "<div>\n",
       "<style scoped>\n",
       "    .dataframe tbody tr th:only-of-type {\n",
       "        vertical-align: middle;\n",
       "    }\n",
       "\n",
       "    .dataframe tbody tr th {\n",
       "        vertical-align: top;\n",
       "    }\n",
       "\n",
       "    .dataframe thead th {\n",
       "        text-align: right;\n",
       "    }\n",
       "</style>\n",
       "<table border=\"1\" class=\"dataframe\">\n",
       "  <thead>\n",
       "    <tr style=\"text-align: right;\">\n",
       "      <th></th>\n",
       "      <th>Name</th>\n",
       "      <th>Pclass</th>\n",
       "      <th>Sex</th>\n",
       "      <th>Age</th>\n",
       "      <th>Survived</th>\n",
       "    </tr>\n",
       "    <tr>\n",
       "      <th>PassengerId</th>\n",
       "      <th></th>\n",
       "      <th></th>\n",
       "      <th></th>\n",
       "      <th></th>\n",
       "      <th></th>\n",
       "    </tr>\n",
       "  </thead>\n",
       "  <tbody>\n",
       "    <tr>\n",
       "      <th>1</th>\n",
       "      <td>Braund, Mr. Owen Harris</td>\n",
       "      <td>3</td>\n",
       "      <td>0</td>\n",
       "      <td>22.0</td>\n",
       "      <td>0</td>\n",
       "    </tr>\n",
       "    <tr>\n",
       "      <th>2</th>\n",
       "      <td>Cumings, Mrs. John Bradley (Florence Briggs Th...</td>\n",
       "      <td>1</td>\n",
       "      <td>1</td>\n",
       "      <td>38.0</td>\n",
       "      <td>1</td>\n",
       "    </tr>\n",
       "    <tr>\n",
       "      <th>3</th>\n",
       "      <td>Heikkinen, Miss. Laina</td>\n",
       "      <td>3</td>\n",
       "      <td>1</td>\n",
       "      <td>26.0</td>\n",
       "      <td>1</td>\n",
       "    </tr>\n",
       "    <tr>\n",
       "      <th>4</th>\n",
       "      <td>Futrelle, Mrs. Jacques Heath (Lily May Peel)</td>\n",
       "      <td>1</td>\n",
       "      <td>1</td>\n",
       "      <td>35.0</td>\n",
       "      <td>1</td>\n",
       "    </tr>\n",
       "    <tr>\n",
       "      <th>5</th>\n",
       "      <td>Allen, Mr. William Henry</td>\n",
       "      <td>3</td>\n",
       "      <td>0</td>\n",
       "      <td>35.0</td>\n",
       "      <td>0</td>\n",
       "    </tr>\n",
       "  </tbody>\n",
       "</table>\n",
       "</div>"
      ],
      "text/plain": [
       "                                                          Name  Pclass  Sex  \\\n",
       "PassengerId                                                                   \n",
       "1                                      Braund, Mr. Owen Harris       3    0   \n",
       "2            Cumings, Mrs. John Bradley (Florence Briggs Th...       1    1   \n",
       "3                                       Heikkinen, Miss. Laina       3    1   \n",
       "4                 Futrelle, Mrs. Jacques Heath (Lily May Peel)       1    1   \n",
       "5                                     Allen, Mr. William Henry       3    0   \n",
       "\n",
       "              Age  Survived  \n",
       "PassengerId                  \n",
       "1            22.0         0  \n",
       "2            38.0         1  \n",
       "3            26.0         1  \n",
       "4            35.0         1  \n",
       "5            35.0         0  "
      ]
     },
     "execution_count": 23,
     "metadata": {},
     "output_type": "execute_result"
    }
   ],
   "source": [
    "train_df.head()"
   ]
  },
  {
   "cell_type": "code",
   "execution_count": 24,
   "metadata": {},
   "outputs": [
    {
     "data": {
      "text/html": [
       "<div>\n",
       "<style scoped>\n",
       "    .dataframe tbody tr th:only-of-type {\n",
       "        vertical-align: middle;\n",
       "    }\n",
       "\n",
       "    .dataframe tbody tr th {\n",
       "        vertical-align: top;\n",
       "    }\n",
       "\n",
       "    .dataframe thead th {\n",
       "        text-align: right;\n",
       "    }\n",
       "</style>\n",
       "<table border=\"1\" class=\"dataframe\">\n",
       "  <thead>\n",
       "    <tr style=\"text-align: right;\">\n",
       "      <th></th>\n",
       "      <th>Name</th>\n",
       "      <th>Pclass</th>\n",
       "      <th>Sex</th>\n",
       "      <th>Age</th>\n",
       "      <th>Survived</th>\n",
       "    </tr>\n",
       "    <tr>\n",
       "      <th>PassengerId</th>\n",
       "      <th></th>\n",
       "      <th></th>\n",
       "      <th></th>\n",
       "      <th></th>\n",
       "      <th></th>\n",
       "    </tr>\n",
       "  </thead>\n",
       "  <tbody>\n",
       "    <tr>\n",
       "      <th>887</th>\n",
       "      <td>Montvila, Rev. Juozas</td>\n",
       "      <td>2</td>\n",
       "      <td>0</td>\n",
       "      <td>27.000000</td>\n",
       "      <td>0</td>\n",
       "    </tr>\n",
       "    <tr>\n",
       "      <th>888</th>\n",
       "      <td>Graham, Miss. Margaret Edith</td>\n",
       "      <td>1</td>\n",
       "      <td>1</td>\n",
       "      <td>19.000000</td>\n",
       "      <td>1</td>\n",
       "    </tr>\n",
       "    <tr>\n",
       "      <th>889</th>\n",
       "      <td>Johnston, Miss. Catherine Helen \"Carrie\"</td>\n",
       "      <td>3</td>\n",
       "      <td>1</td>\n",
       "      <td>29.699118</td>\n",
       "      <td>0</td>\n",
       "    </tr>\n",
       "    <tr>\n",
       "      <th>890</th>\n",
       "      <td>Behr, Mr. Karl Howell</td>\n",
       "      <td>1</td>\n",
       "      <td>0</td>\n",
       "      <td>26.000000</td>\n",
       "      <td>1</td>\n",
       "    </tr>\n",
       "    <tr>\n",
       "      <th>891</th>\n",
       "      <td>Dooley, Mr. Patrick</td>\n",
       "      <td>3</td>\n",
       "      <td>0</td>\n",
       "      <td>32.000000</td>\n",
       "      <td>0</td>\n",
       "    </tr>\n",
       "  </tbody>\n",
       "</table>\n",
       "</div>"
      ],
      "text/plain": [
       "                                                 Name  Pclass  Sex        Age  \\\n",
       "PassengerId                                                                     \n",
       "887                             Montvila, Rev. Juozas       2    0  27.000000   \n",
       "888                      Graham, Miss. Margaret Edith       1    1  19.000000   \n",
       "889          Johnston, Miss. Catherine Helen \"Carrie\"       3    1  29.699118   \n",
       "890                             Behr, Mr. Karl Howell       1    0  26.000000   \n",
       "891                               Dooley, Mr. Patrick       3    0  32.000000   \n",
       "\n",
       "             Survived  \n",
       "PassengerId            \n",
       "887                 0  \n",
       "888                 1  \n",
       "889                 0  \n",
       "890                 1  \n",
       "891                 0  "
      ]
     },
     "execution_count": 24,
     "metadata": {},
     "output_type": "execute_result"
    }
   ],
   "source": [
    "train_df.tail()"
   ]
  },
  {
   "cell_type": "code",
   "execution_count": 25,
   "metadata": {},
   "outputs": [
    {
     "data": {
      "text/html": [
       "<div>\n",
       "<style scoped>\n",
       "    .dataframe tbody tr th:only-of-type {\n",
       "        vertical-align: middle;\n",
       "    }\n",
       "\n",
       "    .dataframe tbody tr th {\n",
       "        vertical-align: top;\n",
       "    }\n",
       "\n",
       "    .dataframe thead th {\n",
       "        text-align: right;\n",
       "    }\n",
       "</style>\n",
       "<table border=\"1\" class=\"dataframe\">\n",
       "  <thead>\n",
       "    <tr style=\"text-align: right;\">\n",
       "      <th></th>\n",
       "      <th>Name</th>\n",
       "      <th>Pclass</th>\n",
       "      <th>Sex</th>\n",
       "      <th>Age</th>\n",
       "      <th>Survived</th>\n",
       "    </tr>\n",
       "    <tr>\n",
       "      <th>PassengerId</th>\n",
       "      <th></th>\n",
       "      <th></th>\n",
       "      <th></th>\n",
       "      <th></th>\n",
       "      <th></th>\n",
       "    </tr>\n",
       "  </thead>\n",
       "  <tbody>\n",
       "    <tr>\n",
       "      <th>887</th>\n",
       "      <td>Montvila, Rev. Juozas</td>\n",
       "      <td>2</td>\n",
       "      <td>0</td>\n",
       "      <td>27.000000</td>\n",
       "      <td>0</td>\n",
       "    </tr>\n",
       "    <tr>\n",
       "      <th>888</th>\n",
       "      <td>Graham, Miss. Margaret Edith</td>\n",
       "      <td>1</td>\n",
       "      <td>1</td>\n",
       "      <td>19.000000</td>\n",
       "      <td>1</td>\n",
       "    </tr>\n",
       "    <tr>\n",
       "      <th>889</th>\n",
       "      <td>Johnston, Miss. Catherine Helen \"Carrie\"</td>\n",
       "      <td>3</td>\n",
       "      <td>1</td>\n",
       "      <td>29.842105</td>\n",
       "      <td>0</td>\n",
       "    </tr>\n",
       "    <tr>\n",
       "      <th>890</th>\n",
       "      <td>Behr, Mr. Karl Howell</td>\n",
       "      <td>1</td>\n",
       "      <td>0</td>\n",
       "      <td>26.000000</td>\n",
       "      <td>1</td>\n",
       "    </tr>\n",
       "    <tr>\n",
       "      <th>891</th>\n",
       "      <td>Dooley, Mr. Patrick</td>\n",
       "      <td>3</td>\n",
       "      <td>0</td>\n",
       "      <td>32.000000</td>\n",
       "      <td>0</td>\n",
       "    </tr>\n",
       "  </tbody>\n",
       "</table>\n",
       "</div>"
      ],
      "text/plain": [
       "                                                 Name  Pclass  Sex        Age  \\\n",
       "PassengerId                                                                     \n",
       "887                             Montvila, Rev. Juozas       2    0  27.000000   \n",
       "888                      Graham, Miss. Margaret Edith       1    1  19.000000   \n",
       "889          Johnston, Miss. Catherine Helen \"Carrie\"       3    1  29.842105   \n",
       "890                             Behr, Mr. Karl Howell       1    0  26.000000   \n",
       "891                               Dooley, Mr. Patrick       3    0  32.000000   \n",
       "\n",
       "             Survived  \n",
       "PassengerId            \n",
       "887                 0  \n",
       "888                 1  \n",
       "889                 0  \n",
       "890                 1  \n",
       "891                 0  "
      ]
     },
     "execution_count": 25,
     "metadata": {},
     "output_type": "execute_result"
    }
   ],
   "source": [
    "test_df.tail()"
   ]
  },
  {
   "cell_type": "markdown",
   "metadata": {},
   "source": [
    "Here we observe that train data containing test data points. We remove test data points from train dataframe"
   ]
  },
  {
   "cell_type": "code",
   "execution_count": 26,
   "metadata": {},
   "outputs": [],
   "source": [
    "X_train = train_df.values[:870, 1:-1]\n",
    "y_train = train_df.values[:870, -1]\n",
    "y_train = y_train.astype(int)\n",
    "\n",
    "X_test = test_df.values[:, 1:-1]\n",
    "y_test = test_df.values[:, -1]\n",
    "y_test = y_test.astype(int)"
   ]
  },
  {
   "cell_type": "code",
   "execution_count": 27,
   "metadata": {},
   "outputs": [],
   "source": [
    "from sklearn.preprocessing import StandardScaler, MinMaxScaler\n",
    "\n",
    "scaler = StandardScaler()\n",
    "\n",
    "scaler.fit(X_train)\n",
    "\n",
    "X_train_scale = scaler.transform(X_train)\n",
    "X_test_scale = scaler.transform(X_test)"
   ]
  },
  {
   "cell_type": "code",
   "execution_count": 28,
   "metadata": {},
   "outputs": [
    {
     "data": {
      "text/plain": [
       "array([[ 8.28102044e-01, -7.34726486e-01, -5.89320802e-01],\n",
       "       [-1.56541549e+00,  1.36105070e+00,  6.35879178e-01],\n",
       "       [ 8.28102044e-01,  1.36105070e+00, -2.83020807e-01],\n",
       "       ...,\n",
       "       [-1.56541549e+00, -7.34726486e-01,  9.98541867e-02],\n",
       "       [ 8.28102044e-01, -7.34726486e-01,  2.39122131e-04],\n",
       "       [ 8.28102044e-01, -7.34726486e-01, -1.96767078e+00]])"
      ]
     },
     "execution_count": 28,
     "metadata": {},
     "output_type": "execute_result"
    }
   ],
   "source": [
    "X_train_scale"
   ]
  },
  {
   "cell_type": "code",
   "execution_count": 29,
   "metadata": {},
   "outputs": [
    {
     "data": {
      "text/plain": [
       "array([[ 0.82810204, -0.73472649, -0.28302081],\n",
       "       [-1.56541549,  1.3610507 ,  1.32505417],\n",
       "       [-1.56541549, -0.73472649,  0.25300418],\n",
       "       [ 0.82810204, -0.73472649,  1.32505417],\n",
       "       [-0.36865672,  1.3610507 , -0.12987081],\n",
       "       [ 0.82810204,  1.3610507 , -1.12534579],\n",
       "       [ 0.82810204, -0.73472649, -0.7424708 ],\n",
       "       [ 0.82810204, -0.73472649, -0.8190458 ],\n",
       "       [ 0.82810204, -0.73472649,  0.0111884 ],\n",
       "       [-1.56541549,  1.3610507 ,  2.01422916],\n",
       "       [-0.36865672,  1.3610507 , -0.35959581],\n",
       "       [ 0.82810204, -0.73472649,  0.25300418],\n",
       "       [ 0.82810204,  1.3610507 , -0.5893208 ],\n",
       "       [-0.36865672, -0.73472649, -0.12987081],\n",
       "       [ 0.82810204, -0.73472649, -0.35959581],\n",
       "       [ 0.82810204,  1.3610507 ,  0.71245418],\n",
       "       [-0.36865672, -0.73472649, -0.20644581],\n",
       "       [-1.56541549,  1.3610507 , -0.8190458 ],\n",
       "       [ 0.82810204,  1.3610507 ,  0.0111884 ],\n",
       "       [-1.56541549, -0.73472649, -0.28302081],\n",
       "       [ 0.82810204, -0.73472649,  0.17642919]])"
      ]
     },
     "execution_count": 29,
     "metadata": {},
     "output_type": "execute_result"
    }
   ],
   "source": [
    "X_test_scale"
   ]
  },
  {
   "cell_type": "markdown",
   "metadata": {},
   "source": [
    "# 1.Using Logistic Regression"
   ]
  },
  {
   "cell_type": "code",
   "execution_count": 30,
   "metadata": {},
   "outputs": [],
   "source": [
    "from sklearn.linear_model import LogisticRegression"
   ]
  },
  {
   "cell_type": "markdown",
   "metadata": {},
   "source": [
    "# #Running Basic Model"
   ]
  },
  {
   "cell_type": "code",
   "execution_count": 31,
   "metadata": {},
   "outputs": [
    {
     "name": "stdout",
     "output_type": "stream",
     "text": [
      "[(0, 0), (1, 1), (0, 0), (0, 0), (1, 1), (1, 1), (0, 0), (0, 0), (0, 0), (1, 1), (1, 1), (0, 0), (0, 1), (0, 0), (0, 0), (0, 0), (0, 0), (1, 1), (0, 1), (1, 1), (0, 0)]\n",
      "Wall time: 16.7 ms\n"
     ]
    }
   ],
   "source": [
    "%%time\n",
    "\n",
    "#Create a model\n",
    "classifier = LogisticRegression()\n",
    "\n",
    "#Fitting training data to the model\n",
    "classifier.fit(X_train_scale, y_train)\n",
    "\n",
    "#predict using the model\n",
    "y_pred = classifier.predict(X_test_scale)\n",
    "\n",
    "print(list(zip(y_test,y_pred)))"
   ]
  },
  {
   "cell_type": "markdown",
   "metadata": {},
   "source": [
    "# Test data Eval"
   ]
  },
  {
   "cell_type": "code",
   "execution_count": 32,
   "metadata": {},
   "outputs": [
    {
     "name": "stdout",
     "output_type": "stream",
     "text": [
      "[[12  2]\n",
      " [ 0  7]]\n",
      "Classification report: \n",
      "              precision    recall  f1-score   support\n",
      "\n",
      "           0       1.00      0.86      0.92        14\n",
      "           1       0.78      1.00      0.88         7\n",
      "\n",
      "    accuracy                           0.90        21\n",
      "   macro avg       0.89      0.93      0.90        21\n",
      "weighted avg       0.93      0.90      0.91        21\n",
      "\n",
      "Accuracy of the model:  0.9047619047619048\n"
     ]
    }
   ],
   "source": [
    "from sklearn.metrics import confusion_matrix, accuracy_score, classification_report\n",
    "\n",
    "cfm = confusion_matrix(y_test,y_pred)\n",
    "print(cfm)\n",
    "\n",
    "print(\"Classification report: \")\n",
    "\n",
    "print(classification_report(y_test,y_pred))\n",
    "\n",
    "acc = accuracy_score(y_test,y_pred)\n",
    "print(\"Accuracy of the model: \",acc)"
   ]
  },
  {
   "cell_type": "markdown",
   "metadata": {},
   "source": [
    "# Test data Eval"
   ]
  },
  {
   "cell_type": "code",
   "execution_count": 33,
   "metadata": {},
   "outputs": [
    {
     "name": "stdout",
     "output_type": "stream",
     "text": [
      "[[459  76]\n",
      " [100 235]]\n",
      "Classification report: \n",
      "              precision    recall  f1-score   support\n",
      "\n",
      "           0       0.82      0.86      0.84       535\n",
      "           1       0.76      0.70      0.73       335\n",
      "\n",
      "    accuracy                           0.80       870\n",
      "   macro avg       0.79      0.78      0.78       870\n",
      "weighted avg       0.80      0.80      0.80       870\n",
      "\n",
      "Accuracy of the model:  0.7977011494252874\n"
     ]
    }
   ],
   "source": [
    "y_pred = classifier.predict(X_train_scale)\n",
    "\n",
    "cfm = confusion_matrix(y_train,y_pred)\n",
    "print(cfm)\n",
    "\n",
    "print(\"Classification report: \")\n",
    "\n",
    "print(classification_report(y_train,y_pred))\n",
    "\n",
    "acc = accuracy_score(y_train,y_pred)\n",
    "print(\"Accuracy of the model: \",acc)"
   ]
  },
  {
   "cell_type": "markdown",
   "metadata": {},
   "source": [
    "# 2. Using KNN"
   ]
  },
  {
   "cell_type": "code",
   "execution_count": 34,
   "metadata": {},
   "outputs": [],
   "source": [
    "#Predicting using the KNeighborsClassifier\n",
    "from sklearn.neighbors import KNeighborsClassifier"
   ]
  },
  {
   "cell_type": "code",
   "execution_count": 35,
   "metadata": {},
   "outputs": [
    {
     "data": {
      "text/plain": [
       "KNeighborsClassifier(algorithm='auto', leaf_size=30, metric='minkowski',\n",
       "                     metric_params=None, n_jobs=None, n_neighbors=15, p=2,\n",
       "                     weights='uniform')"
      ]
     },
     "execution_count": 35,
     "metadata": {},
     "output_type": "execute_result"
    }
   ],
   "source": [
    "model_KNN = KNeighborsClassifier(n_neighbors=15) #n_neighbors value we will always take odd no.\n",
    "\n",
    "#fit the model on the data and predict the values\n",
    "model_KNN.fit(X_train_scale,y_train)\n",
    "\n"
   ]
  },
  {
   "cell_type": "markdown",
   "metadata": {},
   "source": [
    "# Test data Eval"
   ]
  },
  {
   "cell_type": "code",
   "execution_count": 36,
   "metadata": {},
   "outputs": [
    {
     "name": "stdout",
     "output_type": "stream",
     "text": [
      "[[11  3]\n",
      " [ 0  7]]\n",
      "Classification report: \n",
      "              precision    recall  f1-score   support\n",
      "\n",
      "           0       1.00      0.79      0.88        14\n",
      "           1       0.70      1.00      0.82         7\n",
      "\n",
      "    accuracy                           0.86        21\n",
      "   macro avg       0.85      0.89      0.85        21\n",
      "weighted avg       0.90      0.86      0.86        21\n",
      "\n",
      "Accuracy of the model:  0.8571428571428571\n"
     ]
    }
   ],
   "source": [
    "from sklearn.metrics import confusion_matrix, accuracy_score, classification_report\n",
    "\n",
    "y_pred = model_KNN.predict(X_test_scale)\n",
    "\n",
    "conf_matrix = confusion_matrix(y_test,y_pred)\n",
    "print(conf_matrix)\n",
    "\n",
    "print(\"Classification report: \")\n",
    "\n",
    "print(classification_report(y_test,y_pred))\n",
    "\n",
    "acc_score = accuracy_score(y_test,y_pred)\n",
    "print(\"Accuracy of the model: \",acc_score)"
   ]
  },
  {
   "cell_type": "markdown",
   "metadata": {},
   "source": [
    "# WE always use TEST data evaluation"
   ]
  },
  {
   "cell_type": "markdown",
   "metadata": {},
   "source": [
    "# Train data Eval"
   ]
  },
  {
   "cell_type": "code",
   "execution_count": 37,
   "metadata": {},
   "outputs": [
    {
     "name": "stdout",
     "output_type": "stream",
     "text": [
      "[[474  61]\n",
      " [100 235]]\n",
      "Classification report: \n",
      "              precision    recall  f1-score   support\n",
      "\n",
      "           0       0.83      0.89      0.85       535\n",
      "           1       0.79      0.70      0.74       335\n",
      "\n",
      "    accuracy                           0.81       870\n",
      "   macro avg       0.81      0.79      0.80       870\n",
      "weighted avg       0.81      0.81      0.81       870\n",
      "\n",
      "Accuracy of the model:  0.8149425287356322\n"
     ]
    }
   ],
   "source": [
    "y_pred = model_KNN.predict(X_train_scale)\n",
    "\n",
    "conf_matrix = confusion_matrix(y_train,y_pred)\n",
    "print(conf_matrix)\n",
    "\n",
    "print(\"Classification report: \")\n",
    "\n",
    "print(classification_report(y_train,y_pred))\n",
    "\n",
    "acc_score = accuracy_score(y_train,y_pred)\n",
    "print(\"Accuracy of the model: \",acc_score)"
   ]
  },
  {
   "cell_type": "markdown",
   "metadata": {},
   "source": [
    "# Applying diffrent values of k"
   ]
  },
  {
   "cell_type": "code",
   "execution_count": 38,
   "metadata": {},
   "outputs": [
    {
     "name": "stdout",
     "output_type": "stream",
     "text": [
      "Accuracy is: 0.86 for K-Values: 1\n",
      "Accuracy is: 0.86 for K-Values: 2\n",
      "Accuracy is: 0.86 for K-Values: 3\n",
      "Accuracy is: 0.9 for K-Values: 4\n",
      "Accuracy is: 0.9 for K-Values: 5\n",
      "Accuracy is: 0.9 for K-Values: 6\n",
      "Accuracy is: 0.86 for K-Values: 7\n",
      "Accuracy is: 0.86 for K-Values: 8\n",
      "Accuracy is: 0.81 for K-Values: 9\n",
      "Accuracy is: 0.9 for K-Values: 10\n",
      "Accuracy is: 0.81 for K-Values: 11\n",
      "Accuracy is: 0.9 for K-Values: 12\n",
      "Accuracy is: 0.86 for K-Values: 13\n",
      "Accuracy is: 0.9 for K-Values: 14\n",
      "Accuracy is: 0.86 for K-Values: 15\n",
      "Accuracy is: 0.86 for K-Values: 16\n",
      "Accuracy is: 0.86 for K-Values: 17\n",
      "Accuracy is: 0.86 for K-Values: 18\n",
      "Accuracy is: 0.81 for K-Values: 19\n",
      "Accuracy is: 0.86 for K-Values: 20\n",
      "Accuracy is: 0.81 for K-Values: 21\n",
      "Accuracy is: 0.81 for K-Values: 22\n",
      "Accuracy is: 0.86 for K-Values: 23\n",
      "Accuracy is: 0.81 for K-Values: 24\n",
      "Accuracy is: 0.81 for K-Values: 25\n",
      "Accuracy is: 0.86 for K-Values: 26\n",
      "Accuracy is: 0.86 for K-Values: 27\n",
      "Accuracy is: 0.86 for K-Values: 28\n",
      "Accuracy is: 0.86 for K-Values: 29\n",
      "Accuracy is: 0.86 for K-Values: 30\n"
     ]
    }
   ],
   "source": [
    "acc_dict = dict()\n",
    "\n",
    "for K in range(1, 31):\n",
    "    \n",
    "    #Create object with k values\n",
    "    model_KNN = KNeighborsClassifier(K, metric = 'euclidean')\n",
    "    \n",
    "    #Model Fit\n",
    "    model_KNN.fit(X_train_scale, y_train)\n",
    "    \n",
    "    #Model Prediction \n",
    "    y_pred = model_KNN.predict(X_test_scale)\n",
    "    \n",
    "    acc_score = round(accuracy_score(y_test, y_pred),2)\n",
    "    \n",
    "    #Print accuracy score\n",
    "    print(\"Accuracy is: {} for K-Values: {}\".format(acc_score,K))\n",
    "    acc_dict[K] = acc_score"
   ]
  },
  {
   "cell_type": "code",
   "execution_count": 40,
   "metadata": {},
   "outputs": [
    {
     "name": "stdout",
     "output_type": "stream",
     "text": [
      "4 : 0.9\n",
      "5 : 0.9\n",
      "6 : 0.9\n",
      "10 : 0.9\n",
      "12 : 0.9\n",
      "14 : 0.9\n"
     ]
    }
   ],
   "source": [
    "# This will return maximum accuracy with k value\n",
    "for k in acc_dict:\n",
    "    if acc_dict[k] == max(acc_dict.values()):\n",
    "        print(k,\":\", acc_dict[k])"
   ]
  },
  {
   "cell_type": "code",
   "execution_count": 41,
   "metadata": {},
   "outputs": [],
   "source": [
    "model = KNeighborsClassifier(n_neighbors = 5, metric = \"euclidean\", n_jobs=-1)\n",
    "\n",
    "#Model fit\n",
    "model.fit(X_train_scale, y_train)\n",
    "\n",
    "#Model prediction\n",
    "y_pred = model.predict(X_test_scale)\n"
   ]
  },
  {
   "cell_type": "code",
   "execution_count": 42,
   "metadata": {},
   "outputs": [
    {
     "name": "stdout",
     "output_type": "stream",
     "text": [
      "[[12  2]\n",
      " [ 0  7]]\n",
      "Classification report: \n",
      "              precision    recall  f1-score   support\n",
      "\n",
      "           0       1.00      0.86      0.92        14\n",
      "           1       0.78      1.00      0.88         7\n",
      "\n",
      "    accuracy                           0.90        21\n",
      "   macro avg       0.89      0.93      0.90        21\n",
      "weighted avg       0.93      0.90      0.91        21\n",
      "\n",
      "Accuracy of the model:  0.9047619047619048\n"
     ]
    }
   ],
   "source": [
    "# Test Eval\n",
    "\n",
    "conf_matrix = confusion_matrix(y_test,y_pred)\n",
    "print(conf_matrix)\n",
    "\n",
    "print(\"Classification report: \")\n",
    "\n",
    "print(classification_report(y_test,y_pred))\n",
    "\n",
    "acc_score = accuracy_score(y_test,y_pred)\n",
    "print(\"Accuracy of the model: \",acc_score)"
   ]
  },
  {
   "cell_type": "code",
   "execution_count": 44,
   "metadata": {},
   "outputs": [
    {
     "name": "stdout",
     "output_type": "stream",
     "text": [
      "[[486  49]\n",
      " [ 84 251]]\n",
      "Classification report: \n",
      "              precision    recall  f1-score   support\n",
      "\n",
      "           0       0.85      0.91      0.88       535\n",
      "           1       0.84      0.75      0.79       335\n",
      "\n",
      "    accuracy                           0.85       870\n",
      "   macro avg       0.84      0.83      0.84       870\n",
      "weighted avg       0.85      0.85      0.85       870\n",
      "\n",
      "Accuracy of the model:  0.8471264367816091\n"
     ]
    }
   ],
   "source": [
    "# Train Eval\n",
    "y_pred = model.predict(X_train_scale)\n",
    "\n",
    "conf_matrix = confusion_matrix(y_train,y_pred)\n",
    "print(conf_matrix)\n",
    "\n",
    "print(\"Classification report: \")\n",
    "\n",
    "print(classification_report(y_train,y_pred))\n",
    "\n",
    "acc_score = accuracy_score(y_train,y_pred)\n",
    "print(\"Accuracy of the model: \",acc_score)"
   ]
  },
  {
   "cell_type": "code",
   "execution_count": null,
   "metadata": {},
   "outputs": [],
   "source": []
  }
 ],
 "metadata": {
  "kernelspec": {
   "display_name": "Python 3",
   "language": "python",
   "name": "python3"
  },
  "language_info": {
   "codemirror_mode": {
    "name": "ipython",
    "version": 3
   },
   "file_extension": ".py",
   "mimetype": "text/x-python",
   "name": "python",
   "nbconvert_exporter": "python",
   "pygments_lexer": "ipython3",
   "version": "3.7.6"
  }
 },
 "nbformat": 4,
 "nbformat_minor": 4
}
